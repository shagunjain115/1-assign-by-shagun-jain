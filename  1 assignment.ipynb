{
 "cells": [
  {
   "cell_type": "code",
   "execution_count": 2,
   "metadata": {},
   "outputs": [
    {
     "name": "stdout",
     "output_type": "stream",
     "text": [
      "enter your name: rama\n",
      "hello rama\n",
      "welcome\n"
     ]
    }
   ],
   "source": [
    "name = input('enter your name: ')\n",
    "print(\"hello\", name)\n",
    "print(\"welcome\")"
   ]
  },
  {
   "cell_type": "code",
   "execution_count": 3,
   "metadata": {},
   "outputs": [
    {
     "name": "stdout",
     "output_type": "stream",
     "text": [
      "enter the temperature in celsius: 56\n",
      "temperature in farenhit is  132.8\n"
     ]
    }
   ],
   "source": [
    "x=int(input(\"enter the temperature in celsius: \"))\n",
    "y=(x*1.8)+32\n",
    "print(\"temperature in farenhit is \", y)"
   ]
  },
  {
   "cell_type": "code",
   "execution_count": 18,
   "metadata": {},
   "outputs": [
    {
     "name": "stdout",
     "output_type": "stream",
     "text": [
      "enter hours: 50\n",
      "enter rate: 10\n",
      "550.0\n",
      "pay: 550.0\n"
     ]
    }
   ],
   "source": [
    "x = int(input(\"enter hours: \"))\n",
    "y= int(input(\"enter rate: \"))\n",
    "r=x-40\n",
    "z=(40*y)+(r*1.5*y)\n",
    "print(z)\n",
    "print(\"pay:\",z)\n"
   ]
  },
  {
   "cell_type": "code",
   "execution_count": 21,
   "metadata": {},
   "outputs": [
    {
     "name": "stdout",
     "output_type": "stream",
     "text": [
      "enter hours: 20\n",
      "enter rate: nine\n",
      "Error,please enter numeric input\n"
     ]
    }
   ],
   "source": [
    "try:\n",
    "    int(input(\"enter hours: \"))\n",
    "    int(input(\"enter rate: \"))\n",
    "except:\n",
    "    print(\"Error,please enter numeric input\")"
   ]
  },
  {
   "cell_type": "code",
   "execution_count": 29,
   "metadata": {},
   "outputs": [
    {
     "name": "stdout",
     "output_type": "stream",
     "text": [
      "smallest num in 45,708,86,102,3,321,444 is 3\n"
     ]
    }
   ],
   "source": [
    "smallest= x\n",
    "for num in [45,708,86,102,3,321,444]:\n",
    "    if num<x:\n",
    "        smallest=num\n",
    "print(\"smallest num in 45,708,86,102,3,321,444 is\",smallest)"
   ]
  },
  {
   "cell_type": "markdown",
   "metadata": {},
   "source": []
  }
 ],
 "metadata": {
  "kernelspec": {
   "display_name": "Python 3",
   "language": "python",
   "name": "python3"
  }
 },
 "nbformat": 4,
 "nbformat_minor": 2
}
